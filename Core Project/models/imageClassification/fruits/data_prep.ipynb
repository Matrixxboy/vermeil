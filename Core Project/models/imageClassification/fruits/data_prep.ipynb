{
 "cells": [
  {
   "cell_type": "markdown",
   "id": "110a6f73",
   "metadata": {},
   "source": [
    "import os\n",
    "import "
   ]
  }
 ],
 "metadata": {
  "language_info": {
   "name": "python"
  }
 },
 "nbformat": 4,
 "nbformat_minor": 5
}
